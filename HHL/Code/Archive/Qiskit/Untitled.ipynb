{
 "cells": [
  {
   "cell_type": "code",
   "execution_count": 4,
   "id": "90e44508",
   "metadata": {},
   "outputs": [],
   "source": [
    "import numpy as np\n",
    "import matplotlib.pyplot as plt\n",
    "from qiskit import QuantumCircuit\n",
    "from qiskit.algorithms.linear_solvers.hhl import HHL\n",
    "from qiskit.algorithms.linear_solvers.matrices import TridiagonalToeplitz\n",
    "from qiskit.algorithms.linear_solvers.observables import MatrixFunctional\n",
    "matrix = TridiagonalToeplitz(2, 1, 1 / 3, trotter_steps=2)\n",
    "right_hand_side = [1.0, -2.1, 3.2, -4.3]\n",
    "rhs = right_hand_side / np.linalg.norm(right_hand_side)\n",
    "# Initial state circuit\n",
    "num_qubits = matrix.num_state_qubits\n",
    "qc = QuantumCircuit(num_qubits)\n",
    "qc.isometry(rhs, list(range(num_qubits)), None)\n",
    "hhl = HHL()\n",
    "circuit = hhl.construct_circuit(matrix,rhs)"
   ]
  },
  {
   "cell_type": "code",
   "execution_count": 5,
   "id": "43ebce6b",
   "metadata": {},
   "outputs": [
    {
     "data": {
      "image/png": "[encoded data removed]",
      "text/plain": [
       "<Figure size 487.175x445.48 with 1 Axes>"
      ]
     },
     "execution_count": 5,
     "metadata": {},
     "output_type": "execute_result"
    }
   ],
   "source": [
    "circuit.draw(\"mpl\")"
   ]
  },
  {
   "cell_type": "code",
   "execution_count": 57,
   "id": "13450edb",
   "metadata": {},
   "outputs": [],
   "source": [
    "from qiskit.extensions.quantum_initializer import UCRYGate\n",
    "from qiskit.circuit.library.arithmetic.exact_reciprocal import ExactReciprocal\n",
    "from qiskit.extensions.quantum_initializer import ucry\n",
    "from qiskit import QuantumRegister"
   ]
  },
  {
   "cell_type": "code",
   "execution_count": 44,
   "id": "beb796c2",
   "metadata": {},
   "outputs": [
    {
     "data": {
      "text/html": [
       "<pre style=\"word-wrap: normal;white-space: pre;background: #fff0;line-height: 1.1;font-family: &quot;Courier New&quot;,Courier,monospace\">         »\n",
       "state_0: »\n",
       "         »\n",
       "state_1: »\n",
       "         »\n",
       "state_2: »\n",
       "         »\n",
       "state_3: »\n",
       "         »\n",
       "state_4: »\n",
       "         »\n",
       " flag_0: »\n",
       "         »\n",
       "«         ┌──────────────────────────────────────────────────────────────────────────────────────────────────────────────────────────────────────────────────────────────────────────────────────────────────────────────────────────────────────────┐\n",
       "«state_0: ┤1                                                                                                                                                                                                                                         ├\n",
       "«         │                                                                                                                                                                                                                                          │\n",
       "«state_1: ┤2                                                                                                                                                                                                                                         ├\n",
       "«         │                                                                                                                                                                                                                                          │\n",
       "«state_2: ┤3                                                                                                                                                                                                                                         ├\n",
       "«         │  UCRY(0,0,0,0,1.8546,1.389,1.1251,0.94956,0.82303,0.72702,0.65146,0.59035,0.53987,0.49742,0.46122,0.42997,0.40272,0.37873,0.35746,0.33846,0.32138,0.30595,0.29194,0.27917,0.26746,0.2567,0.24678,0.2376,0.22907,0.22114,0.21374,0.20682) │\n",
       "«state_3: ┤4                                                                                                                                                                                                                                         ├\n",
       "«         │                                                                                                                                                                                                                                          │\n",
       "«state_4: ┤5                                                                                                                                                                                                                                         ├\n",
       "«         │                                                                                                                                                                                                                                          │\n",
       "« flag_0: ┤0                                                                                                                                                                                                                                         ├\n",
       "«         └──────────────────────────────────────────────────────────────────────────────────────────────────────────────────────────────────────────────────────────────────────────────────────────────────────────────────────────────────────────┘</pre>"
      ],
      "text/plain": [
       "         »\n",
       "state_0: »\n",
       "         »\n",
       "state_1: »\n",
       "         »\n",
       "state_2: »\n",
       "         »\n",
       "state_3: »\n",
       "         »\n",
       "state_4: »\n",
       "         »\n",
       " flag_0: »\n",
       "         »\n",
       "«         ┌──────────────────────────────────────────────────────────────────────────────────────────────────────────────────────────────────────────────────────────────────────────────────────────────────────────────────────────────────────────┐\n",
       "«state_0: ┤1                                                                                                                                                                                                                                         ├\n",
       "«         │                                                                                                                                                                                                                                          │\n",
       "«state_1: ┤2                                                                                                                                                                                                                                         ├\n",
       "«         │                                                                                                                                                                                                                                          │\n",
       "«state_2: ┤3                                                                                                                                                                                                                                         ├\n",
       "«         │  UCRY(0,0,0,0,1.8546,1.389,1.1251,0.94956,0.82303,0.72702,0.65146,0.59035,0.53987,0.49742,0.46122,0.42997,0.40272,0.37873,0.35746,0.33846,0.32138,0.30595,0.29194,0.27917,0.26746,0.2567,0.24678,0.2376,0.22907,0.22114,0.21374,0.20682) │\n",
       "«state_3: ┤4                                                                                                                                                                                                                                         ├\n",
       "«         │                                                                                                                                                                                                                                          │\n",
       "«state_4: ┤5                                                                                                                                                                                                                                         ├\n",
       "«         │                                                                                                                                                                                                                                          │\n",
       "« flag_0: ┤0                                                                                                                                                                                                                                         ├\n",
       "«         └──────────────────────────────────────────────────────────────────────────────────────────────────────────────────────────────────────────────────────────────────────────────────────────────────────────────────────────────────────────┘"
      ]
     },
     "execution_count": 44,
     "metadata": {},
     "output_type": "execute_result"
    }
   ],
   "source": [
    "circuit = ExactReciprocal(5,0.1)\n",
    "circuit.draw()"
   ]
  },
  {
   "cell_type": "code",
   "execution_count": 62,
   "id": "1c560a85",
   "metadata": {},
   "outputs": [],
   "source": [
    "angles = list(np.random.rand(4)); \n",
    "q = UCRYGate((angles))\n",
    "qc = QuantumRegister(2); "
   ]
  },
  {
   "cell_type": "code",
   "execution_count": 63,
   "id": "2ab152d4",
   "metadata": {},
   "outputs": [
    {
     "data": {
      "text/plain": [
       "QuantumRegister(2, 'q382')"
      ]
     },
     "execution_count": 63,
     "metadata": {},
     "output_type": "execute_result"
    }
   ],
   "source": [
    "qc"
   ]
  },
  {
   "cell_type": "code",
   "execution_count": null,
   "id": "715d2a87",
   "metadata": {},
   "outputs": [],
   "source": []
  }
 ],
 "metadata": {
  "kernelspec": {
   "display_name": "Python 3",
   "language": "python",
   "name": "python3"
  },
  "language_info": {
   "codemirror_mode": {
    "name": "ipython",
    "version": 3
   },
   "file_extension": ".py",
   "mimetype": "text/x-python",
   "name": "python",
   "nbconvert_exporter": "python",
   "pygments_lexer": "ipython3",
   "version": "3.8.8"
  }
 },
 "nbformat": 4,
 "nbformat_minor": 5
}
